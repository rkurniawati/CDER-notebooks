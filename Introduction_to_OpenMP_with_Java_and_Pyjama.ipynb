{
  "nbformat": 4,
  "nbformat_minor": 0,
  "metadata": {
    "colab": {
      "name": "Introduction to OpenMP with Java and Pyjama",
      "provenance": [],
      "collapsed_sections": [],
      "toc_visible": true,
      "include_colab_link": true
    },
    "kernelspec": {
      "display_name": "Python 3",
      "name": "python3"
    }
  },
  "cells": [
    {
      "cell_type": "markdown",
      "metadata": {
        "id": "view-in-github",
        "colab_type": "text"
      },
      "source": [
        "<a href=\"https://colab.research.google.com/github/rkurniawati/CDER-notebooks/blob/main/Introduction_to_OpenMP_with_Java_and_Pyjama.ipynb\" target=\"_parent\"><img src=\"https://colab.research.google.com/assets/colab-badge.svg\" alt=\"Open In Colab\"/></a>"
      ]
    },
    {
      "cell_type": "markdown",
      "metadata": {
        "id": "lIYdn1woOS1n"
      },
      "source": [
        "#Introduction to OpenMP with Java and Pyjama\n",
        "\n",
        "This notebook is created by Ruth Kurniawati (Westfield State University) based on the material from CDER Workshop 2021. "
      ]
    },
    {
      "cell_type": "markdown",
      "metadata": {
        "id": "T9n1oOvUWdZm"
      },
      "source": [
        "# Pyjama\n",
        "\n",
        "OpenMP library is only available for C/C++ and Fortran languages. For Java, Pyjama provides support for OpenMP-like directive. More information about Pyjama can be found in the paper below:\n",
        "\n",
        "Vikas, Nasser Giacaman, and Oliver Sinnen. 2013. Pyjama: OpenMP-like implementation for Java, with GUI extensions. In <i>Proceedings of the 2013 International Workshop on Programming Models and Applications for Multicores and Manycores</i> (<i>PMAM '13</i>). Association for Computing Machinery, New York, NY, USA, 43–52. DOI:https://doi.org/10.1145/2442992.2442997\n",
        "\n",
        "Note that Pyjama is NOT mature yet. In particular, it lacks full core OpenMP features and has some peculiarities/limitations (see below).\n"
      ]
    },
    {
      "cell_type": "markdown",
      "metadata": {
        "id": "rn4GBwkFqmIS"
      },
      "source": [
        "## Pyjama setup\n",
        "\n",
        "In this section, we will download and setup Pyjama Java source code compiler and runtime library. The Pyjama compiler and runtime library used in this notebook has additional bug fixes done by [Tennnessee Tech](https://www.csc.tntech.edu/pdcincs/index.php/installation) which have not been contributed back to the original Pyjama project. "
      ]
    },
    {
      "cell_type": "code",
      "metadata": {
        "colab": {
          "base_uri": "https://localhost:8080/"
        },
        "id": "kHHuztRRq05q",
        "outputId": "23c51b63-5621-4c20-f0ec-b0a1334972f6"
      },
      "source": [
        "!wget https://www.csc.tntech.edu/pdcincs/resources/modules/tools/updated/Pyjama.zip\n",
        "!unzip Pyjama.zip\n",
        "!ln Pyjama/Pyjama-3.1.0.jar Pyjama/Pyjama.jar"
      ],
      "execution_count": 1,
      "outputs": [
        {
          "output_type": "stream",
          "text": [
            "--2021-08-16 14:28:15--  https://www.csc.tntech.edu/pdcincs/resources/modules/tools/updated/Pyjama.zip\n",
            "Resolving www.csc.tntech.edu (www.csc.tntech.edu)... 149.149.134.5\n",
            "Connecting to www.csc.tntech.edu (www.csc.tntech.edu)|149.149.134.5|:443... connected.\n",
            "HTTP request sent, awaiting response... 200 OK\n",
            "Length: 688047 (672K) [application/zip]\n",
            "Saving to: ‘Pyjama.zip’\n",
            "\n",
            "Pyjama.zip          100%[===================>] 671.92K  1.28MB/s    in 0.5s    \n",
            "\n",
            "2021-08-16 14:28:16 (1.28 MB/s) - ‘Pyjama.zip’ saved [688047/688047]\n",
            "\n",
            "Archive:  Pyjama.zip\n",
            "   creating: Pyjama/\n",
            "  inflating: Pyjama/Pyjama-3.1.0.jar  \n",
            "  inflating: Pyjama/set_pyjama.bat   \n",
            " extracting: Pyjama/set_pyjama.sh    \n"
          ],
          "name": "stdout"
        }
      ]
    },
    {
      "cell_type": "markdown",
      "metadata": {
        "id": "eHnm-q8fp7ta"
      },
      "source": [
        "## Hello world\n",
        "\n",
        "In this example, we will verify that the Pyjama installation is working and able to create multiple threads as specified in the `#omp parallel num_threads` directive. "
      ]
    },
    {
      "cell_type": "code",
      "metadata": {
        "colab": {
          "base_uri": "https://localhost:8080/"
        },
        "id": "zfVFhmSKOBdF",
        "outputId": "2cfd8f98-8f35-4f8a-a4d9-4c48ef91a794"
      },
      "source": [
        "%%writefile HelloWorld.java\n",
        "public class HelloWorld\n",
        "{\t\n",
        "    public static void main(String[] args) {\n",
        "        \n",
        "        int threadCount = Integer.parseInt(args[0]);\n",
        "\n",
        "        //#omp parallel num_threads(threadCount)\n",
        "        {\n",
        "            int myID = Pyjama.omp_get_thread_num();\n",
        "            int tCount = Pyjama.omp_get_num_threads();\n",
        "            System.out.println(\"Hello from \"+myID +\" of \"+tCount);\n",
        "        }\n",
        "    }\n",
        "}"
      ],
      "execution_count": 2,
      "outputs": [
        {
          "output_type": "stream",
          "text": [
            "Writing HelloWorld.java\n"
          ],
          "name": "stdout"
        }
      ]
    },
    {
      "cell_type": "markdown",
      "metadata": {
        "id": "cMm8AUZssydy"
      },
      "source": [
        "First, let's use Pyjama to process the `#omp` directive in the program. "
      ]
    },
    {
      "cell_type": "code",
      "metadata": {
        "colab": {
          "base_uri": "https://localhost:8080/"
        },
        "id": "q50_dU1fdBRJ",
        "outputId": "44d4e483-a38e-4cc3-bbe4-a60ab63ff73f"
      },
      "source": [
        "!java -jar Pyjama/Pyjama.jar HelloWorld.java"
      ],
      "execution_count": 3,
      "outputs": [
        {
          "output_type": "stream",
          "text": [
            "Pyjama Compiler Version: 3.1.0\n",
            "-----------------------------------------------------\n",
            "2021/08/16\t14:28:29\n",
            "-----------------------------------------------------\n",
            "Processing file: HelloWorld.java\n",
            "-----------------------------------------------------\n",
            "Processing 1st Phase: Parse and Normalisation\n",
            "Processing 2nd Phase: Symbol scoping visiting\n",
            "Processing 3rd Phase: Pyjama code translation visiting\n",
            "Processing 4th Phase: Generating java code\n",
            "Paralleled .class file is generated.\n",
            "Processing Done.\n"
          ],
          "name": "stdout"
        }
      ]
    },
    {
      "cell_type": "markdown",
      "metadata": {
        "id": "uc0C9Q-Lsrg6"
      },
      "source": [
        "Now, we're ready to run the HelloWorld program. To do this, you will need to make the Pyjama.jar available in the classpath so that the Pyjama OpenMP-like runtime library is available to the HelloWorld program."
      ]
    },
    {
      "cell_type": "code",
      "metadata": {
        "colab": {
          "base_uri": "https://localhost:8080/"
        },
        "id": "EOLa2FNvrNjK",
        "outputId": "da2a5862-00b6-4e45-fe04-9aa4fa0ef4ee"
      },
      "source": [
        "!java -cp Pyjama/Pyjama.jar:. HelloWorld 4"
      ],
      "execution_count": 5,
      "outputs": [
        {
          "output_type": "stream",
          "text": [
            "Hello from 1 of 4\n",
            "Hello from 2 of 4\n",
            "Hello from 0 of 4\n",
            "Hello from 3 of 4\n"
          ],
          "name": "stdout"
        }
      ]
    },
    {
      "cell_type": "markdown",
      "metadata": {
        "id": "wK3ITch6dTiL"
      },
      "source": [
        "## A brief overview on how Pyjama works\n",
        "\n",
        "Pyjama is a Java compiler-runtime system that provides OpenMP-like support for Java program. The Pyjama.jar contains both the compiler and the runtime. When you run the Pyjama.jar using `java -jar Pyjama.jar HelloWorld.java`, you invoke the compiler, which will process the `#omp` directives in the `HelloWorld.java` and generate a Java file where the directives are translated into calls into the Pyjama runtime. "
      ]
    },
    {
      "cell_type": "markdown",
      "metadata": {
        "id": "BtHCZcjKeSxs"
      },
      "source": [
        "Here's how you can see the options that the Pyjama.jar compiler will take:"
      ]
    },
    {
      "cell_type": "code",
      "metadata": {
        "colab": {
          "base_uri": "https://localhost:8080/"
        },
        "id": "1IcPe5K5ail7",
        "outputId": "58bc3c4d-1c65-46e9-f96f-04e8dfe8d99b"
      },
      "source": [
        "!java -jar Pyjama/Pyjama.jar -h"
      ],
      "execution_count": null,
      "outputs": [
        {
          "output_type": "stream",
          "text": [
            "usage: Pyjama\n",
            " -cp,--classpath <PATH>   Specify where to find user class files and\n",
            "                          annotation processors\n",
            " -d,--directory <DIR>     output file directory\n",
            " -h,--help                print usage of Pyjama compiler\n",
            " -j2c,--javatoclass       (default)compile .java file to paralleled .class\n",
            "                          file\n",
            " -j2j,--javatojava        compile .java file to paralleled .java file.\n",
            "                          Remember new parallel java file will overwrite\n",
            "                          old sequential java file, if there is no target\n",
            "                          directory is specified.\n",
            " -p2c,--pjtoclass         compile .pj file to paralleled .class file\n",
            " -p2j,--pjtojava          compile .pj file to paralleled .java file\n",
            "Error: no input files.\n",
            "usage: Pyjama\n",
            " -cp,--classpath <PATH>   Specify where to find user class files and\n",
            "                          annotation processors\n",
            " -d,--directory <DIR>     output file directory\n",
            " -h,--help                print usage of Pyjama compiler\n",
            " -j2c,--javatoclass       (default)compile .java file to paralleled .class\n",
            "                          file\n",
            " -j2j,--javatojava        compile .java file to paralleled .java file.\n",
            "                          Remember new parallel java file will overwrite\n",
            "                          old sequential java file, if there is no target\n",
            "                          directory is specified.\n",
            " -p2c,--pjtoclass         compile .pj file to paralleled .class file\n",
            " -p2j,--pjtojava          compile .pj file to paralleled .java file\n"
          ],
          "name": "stdout"
        }
      ]
    },
    {
      "cell_type": "markdown",
      "metadata": {
        "id": "bIMPZBr_ecbt"
      },
      "source": [
        "Let's look at the generated Java file for our HelloWorld.java. Before we use the `j2j` option, note that we'd want to specify the directory where the generated Java file should be located, otherwise the original file will be overwritten. First, let's create a directory called `generated`."
      ]
    },
    {
      "cell_type": "code",
      "metadata": {
        "id": "hsMFrF6RbFSY"
      },
      "source": [
        "!mkdir generated"
      ],
      "execution_count": null,
      "outputs": []
    },
    {
      "cell_type": "markdown",
      "metadata": {
        "id": "5ZXZCOFte2vY"
      },
      "source": [
        "Let's generate a Java file instead of a class file using `Pyjama.jar`:"
      ]
    },
    {
      "cell_type": "code",
      "metadata": {
        "colab": {
          "base_uri": "https://localhost:8080/"
        },
        "id": "XBferIsmrIRC",
        "outputId": "cd00ee9b-e75d-40c7-c22f-30fc2923ce50"
      },
      "source": [
        "!java -jar Pyjama/Pyjama.jar -d generated -j2j HelloWorld.java "
      ],
      "execution_count": null,
      "outputs": [
        {
          "output_type": "stream",
          "text": [
            "Pyjama Compiler Version: 3.1.0\n",
            "-----------------------------------------------------\n",
            "2021/08/05\t03:47:44\n",
            "-----------------------------------------------------\n",
            "Processing file: HelloWorld.java\n",
            "-----------------------------------------------------\n",
            "Processing 1st Phase: Parse and Normalisation\n",
            "Processing 2nd Phase: Symbol scoping visiting\n",
            "Processing 3rd Phase: Pyjama code translation visiting\n",
            "Processing 4th Phase: Generating java code\n",
            "-----------------------------------------------------\n",
            "Paralleled .java code is generated.\n",
            "Processing Done.\n"
          ],
          "name": "stdout"
        }
      ]
    },
    {
      "cell_type": "markdown",
      "metadata": {
        "id": "ri6jqwjtfBxQ"
      },
      "source": [
        "Now, execute the command below to examine the content of the generated file. "
      ]
    },
    {
      "cell_type": "code",
      "metadata": {
        "colab": {
          "base_uri": "https://localhost:8080/"
        },
        "id": "fYlErOq1arVu",
        "outputId": "7e2d2bc6-cbc1-4d3a-8e75-7ad0ffa91dde"
      },
      "source": [
        "%pfile generated/HelloWorld.java"
      ],
      "execution_count": null,
      "outputs": [
        {
          "output_type": "stream",
          "text": [
            "Object `generated/HelloWorld.java` not found.\n"
          ],
          "name": "stdout"
        }
      ]
    },
    {
      "cell_type": "markdown",
      "metadata": {
        "id": "K37s4nRbXsAO"
      },
      "source": [
        "# Examples\n",
        "\n",
        "Below you'll find some example Java multithreaded programs written using OpenMP-like directive. "
      ]
    },
    {
      "cell_type": "markdown",
      "metadata": {
        "id": "MJTXavrfEpSk"
      },
      "source": [
        "## Parallel Sum\n",
        "\n",
        "Here's an example program that sum-up an array. The work division is done in the code based on the thread id. "
      ]
    },
    {
      "cell_type": "code",
      "metadata": {
        "colab": {
          "base_uri": "https://localhost:8080/"
        },
        "id": "RoxJtJZRItld",
        "outputId": "441f600c-4bc3-4d66-8871-8de774f663dc"
      },
      "source": [
        "%%writefile ParallelSum.java\n",
        "public class ParallelSum {\n",
        "    public static void main(String[] args) {\n",
        "\n",
        "        int numThreads = Integer.parseInt(args[0]);\n",
        "        int n = Integer.parseInt(args[1]);\n",
        "        double sum = 0;\n",
        "        double [] results = new double[numThreads];\n",
        "        double [] arr = new double[n];\n",
        "        for (int i = 0; i < n; i++) arr[i] = 1;\n",
        "\n",
        "        //#omp parallel num_threads(numThreads) shared(numThreads, n, arr, results)\n",
        "        {\n",
        "            int id = Pyjama.omp_get_thread_num();\n",
        "            int chunk = (int)n/numThreads;\n",
        "            int start = id * chunk;\n",
        "            int end;\n",
        "\n",
        "            if (id == numThreads - 1) end = n;\n",
        "            else end = start + chunk;\n",
        "            \n",
        "            for (int i = start; i < end; i++)\n",
        "                results[id] += arr[i];\n",
        "        }\n",
        "        for (int i = 0; i < numThreads; i++)\n",
        "            sum += results[i];\n",
        "        System.out.println(\"sum = \" + sum);\n",
        "    }\n",
        "}"
      ],
      "execution_count": 33,
      "outputs": [
        {
          "output_type": "stream",
          "text": [
            "Overwriting ParallelSum.java\n"
          ],
          "name": "stdout"
        }
      ]
    },
    {
      "cell_type": "code",
      "metadata": {
        "colab": {
          "base_uri": "https://localhost:8080/"
        },
        "id": "auddQFwHPRwF",
        "outputId": "f485af73-5f17-4193-a514-9b6a5196debe"
      },
      "source": [
        "!java -jar Pyjama/Pyjama.jar ParallelSum.java"
      ],
      "execution_count": 34,
      "outputs": [
        {
          "output_type": "stream",
          "text": [
            "Pyjama Compiler Version: 3.1.0\n",
            "-----------------------------------------------------\n",
            "2021/08/16\t15:05:25\n",
            "-----------------------------------------------------\n",
            "Processing file: ParallelSum.java\n",
            "-----------------------------------------------------\n",
            "Processing 1st Phase: Parse and Normalisation\n",
            "Processing 2nd Phase: Symbol scoping visiting\n",
            "Processing 3rd Phase: Pyjama code translation visiting\n",
            "Processing 4th Phase: Generating java code\n",
            "Paralleled .class file is generated.\n",
            "Processing Done.\n"
          ],
          "name": "stdout"
        }
      ]
    },
    {
      "cell_type": "markdown",
      "metadata": {
        "id": "PxGDg2fjcgPS"
      },
      "source": [
        "First, let's make sure that it works with just one thread, summing up 100,000,000 numbers."
      ]
    },
    {
      "cell_type": "code",
      "metadata": {
        "colab": {
          "base_uri": "https://localhost:8080/"
        },
        "id": "zFxUKQ8SQcic",
        "outputId": "92baccfe-788d-4ee9-dbcd-19811a5520db"
      },
      "source": [
        "!java -cp Pyjama/Pyjama.jar:. ParallelSum 1 100000000"
      ],
      "execution_count": 35,
      "outputs": [
        {
          "output_type": "stream",
          "text": [
            "sum = 1.0E8\n"
          ],
          "name": "stdout"
        }
      ]
    },
    {
      "cell_type": "markdown",
      "metadata": {
        "id": "KkJ0P2dqcauR"
      },
      "source": [
        "Let's try running this program with different number of threads and compare the timings. "
      ]
    },
    {
      "cell_type": "code",
      "metadata": {
        "colab": {
          "base_uri": "https://localhost:8080/"
        },
        "id": "r-SuVJshcygc",
        "outputId": "1492381d-3950-4905-ccf1-b84967780039"
      },
      "source": [
        "!time java -cp Pyjama/Pyjama.jar:. ParallelSum 1 100000000"
      ],
      "execution_count": 36,
      "outputs": [
        {
          "output_type": "stream",
          "text": [
            "sum = 1.0E8\n",
            "\n",
            "real\t0m0.875s\n",
            "user\t0m0.559s\n",
            "sys\t0m0.412s\n"
          ],
          "name": "stdout"
        }
      ]
    },
    {
      "cell_type": "code",
      "metadata": {
        "colab": {
          "base_uri": "https://localhost:8080/"
        },
        "id": "xm0uhmAMc2lx",
        "outputId": "3cf4b84d-faf3-4c60-ab53-92dc46cea342"
      },
      "source": [
        "!time java -cp Pyjama/Pyjama.jar:. ParallelSum 2 100000000"
      ],
      "execution_count": 37,
      "outputs": [
        {
          "output_type": "stream",
          "text": [
            "sum = 1.0E8\n",
            "\n",
            "real\t0m0.826s\n",
            "user\t0m0.584s\n",
            "sys\t0m0.401s\n"
          ],
          "name": "stdout"
        }
      ]
    },
    {
      "cell_type": "code",
      "metadata": {
        "colab": {
          "base_uri": "https://localhost:8080/"
        },
        "id": "yZGqIudUc9qK",
        "outputId": "05093da4-f39f-4dc2-ff44-69b27053de8c"
      },
      "source": [
        "!time java -cp Pyjama/Pyjama.jar:. ParallelSum 4 100000000"
      ],
      "execution_count": 38,
      "outputs": [
        {
          "output_type": "stream",
          "text": [
            "sum = 1.0E8\n",
            "\n",
            "real\t0m0.840s\n",
            "user\t0m0.599s\n",
            "sys\t0m0.417s\n"
          ],
          "name": "stdout"
        }
      ]
    },
    {
      "cell_type": "markdown",
      "metadata": {
        "id": "BakxJ59kdSDC"
      },
      "source": [
        "Note that you may not notice any speed up if you specify more threads than the available CPUs. To see the available CPUs, use the following command:"
      ]
    },
    {
      "cell_type": "code",
      "metadata": {
        "colab": {
          "base_uri": "https://localhost:8080/"
        },
        "id": "NNhd4f6odkBQ",
        "outputId": "0a5d2a6e-24c2-4e54-d0f9-66d9c30f5da1"
      },
      "source": [
        "!lscpu"
      ],
      "execution_count": 20,
      "outputs": [
        {
          "output_type": "stream",
          "text": [
            "Architecture:        x86_64\n",
            "CPU op-mode(s):      32-bit, 64-bit\n",
            "Byte Order:          Little Endian\n",
            "CPU(s):              2\n",
            "On-line CPU(s) list: 0,1\n",
            "Thread(s) per core:  2\n",
            "Core(s) per socket:  1\n",
            "Socket(s):           1\n",
            "NUMA node(s):        1\n",
            "Vendor ID:           GenuineIntel\n",
            "CPU family:          6\n",
            "Model:               79\n",
            "Model name:          Intel(R) Xeon(R) CPU @ 2.20GHz\n",
            "Stepping:            0\n",
            "CPU MHz:             2199.998\n",
            "BogoMIPS:            4399.99\n",
            "Hypervisor vendor:   KVM\n",
            "Virtualization type: full\n",
            "L1d cache:           32K\n",
            "L1i cache:           32K\n",
            "L2 cache:            256K\n",
            "L3 cache:            56320K\n",
            "NUMA node0 CPU(s):   0,1\n",
            "Flags:               fpu vme de pse tsc msr pae mce cx8 apic sep mtrr pge mca cmov pat pse36 clflush mmx fxsr sse sse2 ss ht syscall nx pdpe1gb rdtscp lm constant_tsc rep_good nopl xtopology nonstop_tsc cpuid tsc_known_freq pni pclmulqdq ssse3 fma cx16 pcid sse4_1 sse4_2 x2apic movbe popcnt aes xsave avx f16c rdrand hypervisor lahf_lm abm 3dnowprefetch invpcid_single ssbd ibrs ibpb stibp fsgsbase tsc_adjust bmi1 hle avx2 smep bmi2 erms invpcid rtm rdseed adx smap xsaveopt arat md_clear arch_capabilities\n"
          ],
          "name": "stdout"
        }
      ]
    },
    {
      "cell_type": "markdown",
      "metadata": {
        "id": "nrzcSWoxeAjP"
      },
      "source": [
        "## Parallel sum with automatic work subdivision \n",
        "\n",
        "Below you'll find the same ParallelSum program, but this time we let Pyjama divide the work among the threads using `omp for` directive. Note also that we have to use the `reduction` clause."
      ]
    },
    {
      "cell_type": "code",
      "metadata": {
        "colab": {
          "base_uri": "https://localhost:8080/"
        },
        "id": "G2Qne_gCeXZm",
        "outputId": "f7b1cef4-351a-40c8-dd6c-e37898bfbc20"
      },
      "source": [
        "%%writefile ArraySum.java\n",
        "import java.lang.*;\n",
        "import java.lang.Math;\n",
        "import java.util.Random;\n",
        "import java.util.concurrent.ThreadLocalRandom;\n",
        "\n",
        "public class ArraySum {\n",
        "\tpublic static void main(String[] args) {\n",
        "\t\tint numThreads = 0;\n",
        "\t\tint numItems = 0;\n",
        "\t\tif (args.length < 2) {\n",
        "\t\t\tSystem.err.println(\"usage: Hello <numThreads> <numItems>\");\n",
        "\t\t\tSystem.exit(0);\n",
        "\t\t}\n",
        "\t\ttry {\n",
        "\t\t\tnumThreads = Integer.parseInt(args[0]);\n",
        "\t\t\tnumItems = Integer.parseInt(args[1]);\n",
        "\t\t} catch (Exception ex) {\n",
        "\t\t\tSystem.err.println(\"Bad argument\");\n",
        "\t\t\tSystem.exit(1);\n",
        "\t\t}\n",
        "\t\tdouble[] a = new double[numItems];\n",
        "\n",
        "\t\tfillArray(a);\n",
        "\n",
        "\t\tdouble sum = 0;\n",
        "\t\t\n",
        "\t\t//#omp parallel for shared(a) num_threads(numThreads) reduction(+:sum)\n",
        "\t\tfor (int i = 0; i < a.length; i++) {\n",
        "\t\t\tsum += a[i];\n",
        "\t\t}\n",
        "\t\tSystem.out.println(\"Sum is \" + String.valueOf(sum));\n",
        "\t\n",
        "\t}\n",
        "\tprivate static void fillArray(double[] a) {\n",
        "\t\tfor (int i = 0; i < a.length; i++) {\n",
        "\t\t\ta[i] = 1; // can choose random: Math.random() * 100;\n",
        "\t\t}\n",
        "\t}\n",
        "}\n"
      ],
      "execution_count": 39,
      "outputs": [
        {
          "output_type": "stream",
          "text": [
            "Overwriting ArraySum.java\n"
          ],
          "name": "stdout"
        }
      ]
    },
    {
      "cell_type": "code",
      "metadata": {
        "colab": {
          "base_uri": "https://localhost:8080/"
        },
        "id": "HcCz076sfApt",
        "outputId": "761bf6f4-d871-46ac-a1dd-5ad52e86a7ee"
      },
      "source": [
        "!java -jar Pyjama/Pyjama.jar ArraySum.java"
      ],
      "execution_count": 40,
      "outputs": [
        {
          "output_type": "stream",
          "text": [
            "Pyjama Compiler Version: 3.1.0\n",
            "-----------------------------------------------------\n",
            "2021/08/16\t15:05:58\n",
            "-----------------------------------------------------\n",
            "Processing file: ArraySum.java\n",
            "-----------------------------------------------------\n",
            "Processing 1st Phase: Parse and Normalisation\n",
            "Processing 2nd Phase: Symbol scoping visiting\n",
            "Processing 3rd Phase: Pyjama code translation visiting\n",
            "Processing 4th Phase: Generating java code\n",
            "Paralleled .class file is generated.\n",
            "Processing Done.\n"
          ],
          "name": "stdout"
        }
      ]
    },
    {
      "cell_type": "markdown",
      "metadata": {
        "id": "8HfrYQwhf8vH"
      },
      "source": [
        "Let's compare the runtime of this program with 1 and 2 threads (feel free to adjust this to another number based on the number of CPUs available to you):"
      ]
    },
    {
      "cell_type": "code",
      "metadata": {
        "colab": {
          "base_uri": "https://localhost:8080/"
        },
        "id": "_MqnXqD2gB6z",
        "outputId": "b6ad35a8-aa00-439c-fc47-23bba951385d"
      },
      "source": [
        "!time java -cp Pyjama/Pyjama.jar:. ArraySum 1 100000000"
      ],
      "execution_count": 43,
      "outputs": [
        {
          "output_type": "stream",
          "text": [
            "Sum is 1.0E8\n",
            "\n",
            "real\t0m0.891s\n",
            "user\t0m0.564s\n",
            "sys\t0m0.396s\n"
          ],
          "name": "stdout"
        }
      ]
    },
    {
      "cell_type": "code",
      "metadata": {
        "colab": {
          "base_uri": "https://localhost:8080/"
        },
        "id": "C4KpbxL-fL13",
        "outputId": "163a35a6-5d66-40da-e6f3-9f32bbc2d91b"
      },
      "source": [
        "!time java -cp Pyjama/Pyjama.jar:. ArraySum 2 100000000"
      ],
      "execution_count": 45,
      "outputs": [
        {
          "output_type": "stream",
          "text": [
            "Sum is 1.0E8\n",
            "\n",
            "real\t0m0.837s\n",
            "user\t0m0.604s\n",
            "sys\t0m0.395s\n"
          ],
          "name": "stdout"
        }
      ]
    },
    {
      "cell_type": "markdown",
      "metadata": {
        "id": "rZH1PsJvgeCK"
      },
      "source": [
        "## Parallel Min/Max\n",
        "\n",
        "Here's another example of `reduction` using `max` functions."
      ]
    },
    {
      "cell_type": "code",
      "metadata": {
        "colab": {
          "base_uri": "https://localhost:8080/"
        },
        "id": "ksNNZdzJBpFm",
        "outputId": "02b250d4-3dfe-4202-d730-614edf93b069"
      },
      "source": [
        "%%writefile ParallelMinMax.java\n",
        "import java.util.concurrent.ThreadLocalRandom;\n",
        "\n",
        "public class ParallelMinMax {\n",
        "\n",
        "    public static void main(String[] args) {\n",
        "\n",
        "        int numThreads = Integer.parseInt(args[0]);\n",
        "        int n = Integer.parseInt(args[1]);\n",
        "        int max_val = 0;\n",
        "        int [] arr = new int[n];\n",
        "        for (int i = 0; i < n; i++) \n",
        "            arr[i] = ThreadLocalRandom.current().nextInt(0, 101);\n",
        "        \n",
        "        //#omp parallel num_threads(numThreads) shared(n, arr) reduction(max:max_val)\n",
        "        {\n",
        "            //#omp for\n",
        "            for (int i = 0; i < n; i++)\n",
        "            {\n",
        "                if (arr[i] > max_val)\n",
        "                    max_val = arr[i];\n",
        "            }\n",
        "        }\n",
        "\n",
        "        // use this only for debugging with small n\n",
        "        // for (int i = 0; i < n; i++) System.out.print(arr[i] + \" \");\n",
        "\n",
        "        System.out.println(\"\\nmax value = \" + max_val);\n",
        "        System.out.println(\"\\nmin value = \" + min_val);\n",
        "    }\n",
        "}\n"
      ],
      "execution_count": 49,
      "outputs": [
        {
          "output_type": "stream",
          "text": [
            "Overwriting ParallelMinMax.java\n"
          ],
          "name": "stdout"
        }
      ]
    },
    {
      "cell_type": "code",
      "metadata": {
        "colab": {
          "base_uri": "https://localhost:8080/"
        },
        "id": "l-8vFwfdCELO",
        "outputId": "e403d086-9383-43af-86bc-7ebf8072c098"
      },
      "source": [
        "!java -jar Pyjama/Pyjama.jar ParallelMinMax.java"
      ],
      "execution_count": 50,
      "outputs": [
        {
          "output_type": "stream",
          "text": [
            "Pyjama Compiler Version: 3.1.0\n",
            "-----------------------------------------------------\n",
            "2021/08/16\t15:10:21\n",
            "-----------------------------------------------------\n",
            "Processing file: ParallelMinMax.java\n",
            "-----------------------------------------------------\n",
            "Processing 1st Phase: Parse and Normalisation\n",
            "Processing 2nd Phase: Symbol scoping visiting\n",
            "Processing 3rd Phase: Pyjama code translation visiting\n",
            "Processing 4th Phase: Generating java code\n",
            "Paralleled .class file is generated.\n",
            "Processing Done.\n"
          ],
          "name": "stdout"
        }
      ]
    },
    {
      "cell_type": "markdown",
      "metadata": {
        "id": "vba2sFuRg6vU"
      },
      "source": [
        "Let's run this with 4 threads to find the maximum of 100,000,000 random numbers between 0 and 100."
      ]
    },
    {
      "cell_type": "code",
      "metadata": {
        "colab": {
          "base_uri": "https://localhost:8080/"
        },
        "id": "0o9yjeX9CMse",
        "outputId": "808d9849-ca5e-4b0b-e418-35a42c641bc9"
      },
      "source": [
        "!java -cp Pyjama/Pyjama.jar:. ParallelMinMax 4 100000000"
      ],
      "execution_count": 51,
      "outputs": [
        {
          "output_type": "stream",
          "text": [
            "\n",
            "max value = 100\n"
          ],
          "name": "stdout"
        }
      ]
    },
    {
      "cell_type": "markdown",
      "metadata": {
        "id": "E71rM752hLvO"
      },
      "source": [
        "Now, modify the code to also find the minimum!"
      ]
    },
    {
      "cell_type": "markdown",
      "metadata": {
        "id": "zTjgI8_7Cbar"
      },
      "source": [
        "## A more complex example\n",
        "\n",
        "In this example, we'll estimate Pi (3.14159..) using the Monte Carlo method. The area inside a circle with the radius 1 in the cartesian coordinate is Pi * r^2 = Pi * 1^2 = Pi. If we generate random x and y in [0..1) range and track how many of them are inside the circle (sqrt(x^2 + y^2) <= 1). The ratio between the number of (x, y) points in the circle and the total number of points is Pi/4. So, Pi will be 4 * (number of points inside)/(total number of points). \n",
        "\n",
        "Also note that the call to sqrt is not needed since sqrt(1) = 1. "
      ]
    },
    {
      "cell_type": "code",
      "metadata": {
        "colab": {
          "base_uri": "https://localhost:8080/"
        },
        "id": "ePPZGTuoDLa4",
        "outputId": "256f47b1-be78-4dfb-a650-d091a86fe1d5"
      },
      "source": [
        "%%writefile Monte.java\n",
        "import java.lang.*;\n",
        "import java.lang.Math;\n",
        "import java.util.Random;\n",
        "import java.util.concurrent.ThreadLocalRandom;\n",
        "\n",
        "public class Monte {\n",
        "\tpublic static void main(String[] args) {\n",
        "\t\tint numIters = 0;\n",
        "\t\ttry {\n",
        "\t\t\tnumIters = Integer.parseInt(args[0]);\n",
        "\t\t} catch (Exception ex) {\n",
        "\t\t\tSystem.err.println(\"Exception when parsing argument\");\n",
        "\t\t\tSystem.exit(1);\n",
        "\t\t}\n",
        "\n",
        "\t\tint numIn = 0;\n",
        "\t\tint numOut = 0;\n",
        "\t\t//#omp parallel num_threads(4) shared(numIters) reduction(+:numIn) reduction(+:numOut)\n",
        "\t\t{\n",
        "\t\t\tThreadLocalRandom rand = ThreadLocalRandom.current();\n",
        "\t\t\t//#omp for\n",
        "\t\t\tfor (int i = 0; i < myIters; i++) {\n",
        "\t\t\t\t// get random number from 0 to 1\n",
        "\t\t\t\tdouble x = rand.nextDouble();\n",
        "\t\t\t\tdouble y = rand.nextDouble();\n",
        "\t\t\t\tdouble hyp = x*x + y*y;\n",
        "\t\t\t\tif (hyp <= 1.0) {\n",
        "\t\t\t\t\tnumIn++;\n",
        "\t\t\t\t} else {\n",
        "\t\t\t\t\tnumOut++;\n",
        "\t\t\t\t}\n",
        "\t\t\t}\n",
        "\t\t}\n",
        "\t\tfloat p = (((float)numIn)/(numIn+numOut));\n",
        "\t\tfloat fourp = 4*p;\n",
        "\t\tSystem.out.println(\"Pi is \" + String.valueOf(fourp));\n",
        "\t}\n",
        "}\n"
      ],
      "execution_count": 54,
      "outputs": [
        {
          "output_type": "stream",
          "text": [
            "Overwriting Monte.java\n"
          ],
          "name": "stdout"
        }
      ]
    },
    {
      "cell_type": "code",
      "metadata": {
        "colab": {
          "base_uri": "https://localhost:8080/"
        },
        "id": "oEZkns5HDhzu",
        "outputId": "eb4dd40e-3aa8-487e-c427-f4722c8e3538"
      },
      "source": [
        "!java -jar Pyjama/Pyjama.jar Monte.java"
      ],
      "execution_count": 55,
      "outputs": [
        {
          "output_type": "stream",
          "text": [
            "Pyjama Compiler Version: 3.1.0\n",
            "-----------------------------------------------------\n",
            "2021/08/16\t15:20:13\n",
            "-----------------------------------------------------\n",
            "Processing file: Monte.java\n",
            "-----------------------------------------------------\n",
            "/Monte.java:23: error: cannot find symbol\n",
            "\t\t\tfor (int i = 0; i < myIters; i++) {\n",
            "\t\t\t                    ^\n",
            "  symbol:   variable myIters\n",
            "  location: class Monte\n"
          ],
          "name": "stdout"
        }
      ]
    },
    {
      "cell_type": "code",
      "metadata": {
        "colab": {
          "base_uri": "https://localhost:8080/"
        },
        "id": "FqgRO2hpDjN0",
        "outputId": "507842fd-f568-4872-d2bd-f9231fe6bca7"
      },
      "source": [
        "!java -cp Pyjama/Pyjama.jar:. Monte 100000000"
      ],
      "execution_count": 56,
      "outputs": [
        {
          "output_type": "stream",
          "text": [
            "Pi is 3.141376\n"
          ],
          "name": "stdout"
        }
      ]
    },
    {
      "cell_type": "markdown",
      "metadata": {
        "id": "hqm442UyYG3S"
      },
      "source": [
        "# Pyjama Limitations\n",
        "\n",
        "- It supports only a subset of OpenMP directives, the list of directives supported can be found [here](https://github.com/ParallelAndReconfigurableComputing/Pyjama/blob/master/src/pj/parser/java5OMP.jj). Note that not all of the keywords listed there are fully supported, for example:\n",
        "  - There is an implied `default(none)` clause. All shared variables have to be declared using `shared` clause. \n",
        "  - All Pyjama directives must begin with `//#omp`. No extra white spaces between `//` and `#omp`.\n",
        "  - There is no support for user-defined reduction operators. \n",
        "- Pyjama has the following limits on Java support:\n",
        "  - Currently the parser only support Java 1.5. Even though the `javac` compiler you use is a later version and support all the latest syntax, you cannot use Java construct beyond Java 1.5 since the Pyjama compiler will not support it. Specifically, it doesn't support lambdas. \n",
        "  - It doesn't support Java packages.\n",
        "- Other quirks (not a complete list):\n",
        "  - Arrays in Pyjama parallel regions, has to be declared as Java-style array (brackets before variable name, not after): \n",
        "    - CORRECT: `int [] arr_var = new int[n];`\n",
        "    - INCORRECT: `int arr_var [] = new int[n];`\n",
        "  - Can’t use Pyjama function names, eg `omp_get_num_threads`, as variables\n",
        "  - Issues with `-j2j` (source to source) option:\n",
        "    - if you don't also specify the `-d` (output directory) option along with `-j2j`, Pyjama will happily overwrite your source code with its generated code.\n",
        "    - this option will append `src` to the path if you specify source code in other than the current directory.\n"
      ]
    }
  ]
}